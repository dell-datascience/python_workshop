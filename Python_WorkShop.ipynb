{
 "cells": [
  {
   "cell_type": "markdown",
   "id": "7b7d6f42-6951-406f-b875-7eeae0983020",
   "metadata": {},
   "source": [
    "# Python workshop\n",
    "\n",
    "![](https://logos-download.com/wp-content/uploads/2016/10/Python_logo_wordmark.png)\n",
    "\n"
   ]
  },
  {
   "cell_type": "markdown",
   "id": "c2af09e6-52cf-4d14-b0df-d3ea0f9ef96e",
   "metadata": {},
   "source": [
    "# Part 1\n",
    "\n",
    "# Arithmetic operators\n",
    "\n",
    "- `+` : Addition\n",
    "- `-` : Subtraction\n",
    "- `*` : Multiplication\n",
    "- `**`: Exponential\n",
    "- `/` : division\n",
    "- `//` : floor division\n",
    "- `%` : mod\n",
    "\n",
    "**Try in the code cells bellow:**"
   ]
  },
  {
   "cell_type": "code",
   "execution_count": 60,
   "id": "97eca556-84b2-4511-ac0c-1b9d189917eb",
   "metadata": {},
   "outputs": [
    {
     "name": "stdout",
     "output_type": "stream",
     "text": [
      "20\n"
     ]
    }
   ],
   "source": [
    "print(10 + 10)"
   ]
  },
  {
   "cell_type": "code",
   "execution_count": 62,
   "id": "7d7d1017-ebd4-45f9-90e1-dfd34209b358",
   "metadata": {},
   "outputs": [
    {
     "name": "stdout",
     "output_type": "stream",
     "text": [
      "-8\n"
     ]
    }
   ],
   "source": [
    "print(2 - 10)"
   ]
  },
  {
   "cell_type": "code",
   "execution_count": 64,
   "id": "c5f4dc54-33d5-4b69-9309-690971a23eb5",
   "metadata": {},
   "outputs": [
    {
     "name": "stdout",
     "output_type": "stream",
     "text": [
      "200\n"
     ]
    }
   ],
   "source": [
    "print( 10 * 20)"
   ]
  },
  {
   "cell_type": "code",
   "execution_count": 72,
   "id": "5a00a8ef-01d0-483f-8e11-dffb0d55ecd9",
   "metadata": {},
   "outputs": [
    {
     "name": "stdout",
     "output_type": "stream",
     "text": [
      "3.3333333333333335\n"
     ]
    }
   ],
   "source": [
    "print(10 / 3)"
   ]
  },
  {
   "cell_type": "code",
   "execution_count": 70,
   "id": "1ff9c236-e6c0-482d-be6e-f5dc791fd55b",
   "metadata": {},
   "outputs": [
    {
     "name": "stdout",
     "output_type": "stream",
     "text": [
      "3\n"
     ]
    }
   ],
   "source": [
    "print(10 // 3)"
   ]
  },
  {
   "cell_type": "code",
   "execution_count": 74,
   "id": "126deb8a-6227-4fa9-ae76-5be2cde9b440",
   "metadata": {},
   "outputs": [
    {
     "name": "stdout",
     "output_type": "stream",
     "text": [
      "400\n"
     ]
    }
   ],
   "source": [
    "print( 20 ** 2)"
   ]
  },
  {
   "cell_type": "code",
   "execution_count": 76,
   "id": "84e7bd5d-f3f4-44d6-acda-1ed3de442521",
   "metadata": {},
   "outputs": [
    {
     "name": "stdout",
     "output_type": "stream",
     "text": [
      "1\n"
     ]
    }
   ],
   "source": [
    "print(15 % 2)"
   ]
  },
  {
   "cell_type": "markdown",
   "id": "74a1d898-e67e-4832-8aa2-6c3e12db389a",
   "metadata": {},
   "source": [
    "# **Big Oooopps** when using python for computation"
   ]
  },
  {
   "cell_type": "code",
   "execution_count": 81,
   "id": "a47db4ae-7909-45a5-999b-5ca96ccd38be",
   "metadata": {},
   "outputs": [
    {
     "name": "stdout",
     "output_type": "stream",
     "text": [
      "0.30000000000000004\n"
     ]
    }
   ],
   "source": [
    "print(0.1 + 0.1 + 0.1)"
   ]
  },
  {
   "cell_type": "code",
   "execution_count": null,
   "id": "ac890fd4-f64e-443e-b917-031c4237594e",
   "metadata": {},
   "outputs": [],
   "source": [
    "print( (0.1 + 0.1 + 0.1) == 0.3)"
   ]
  },
  {
   "cell_type": "markdown",
   "id": "bc2ef2a6-b42c-4349-afa4-05eb25a42b8e",
   "metadata": {},
   "source": [
    "# Quiz\n",
    "\n",
    "In this quiz you're going to do some calculations for a tiler. Two parts of a floor need tiling. One part is **16 tiles wide by 4** tiles long, the other is **5 tiles wide by 7** tiles long. Tiles come in packages of 6.\n",
    "\n",
    "* **1. How many tiles are needed?**\n",
    "* **2. You buy 17 packages of tiles containing 6 tiles each. How many tiles will be left over?**\n"
   ]
  },
  {
   "cell_type": "code",
   "execution_count": 93,
   "id": "b304c502-2322-415d-9f43-271099ab6c04",
   "metadata": {},
   "outputs": [
    {
     "name": "stdout",
     "output_type": "stream",
     "text": [
      "\n",
      "\n"
     ]
    }
   ],
   "source": [
    "# Fill this in with an expression that calculates how many tiles are needed.\n",
    "print()\n",
    "\n",
    "# Fill this in with an expression that calculates how many tiles will be left over.\n",
    "print()"
   ]
  },
  {
   "cell_type": "markdown",
   "id": "cf25c77b-1a59-43d7-879f-1a16e4417698",
   "metadata": {},
   "source": [
    "# Part 2\n",
    "\n",
    "## Variables\n",
    "\n",
    "```\n",
    "\n",
    "x = 3\n",
    "y = 4\n",
    "z = 5\n",
    "\n",
    "University_name = 'Open University'\n",
    "favorite_team = 'Manchester United'\n",
    "\n",
    "\n",
    "total_plates = 1000\n",
    "plates_per_person = 3\n",
    "\n",
    "max_number_invited = (total_plates / plates_per_person)\n",
    "```\n",
    "\n",
    "## ✅ Does and ❌ Don'ts of variable names  \n",
    "\n",
    "`2_houses` ❌ don't start with numbers\n",
    "\n",
    "`car number` ❌ don't leave spaces in between\n",
    "\n",
    "`Latitude_Longitude` ❌ don't start with Upper case \n",
    "\n",
    "# Variables and arithmetic operators\n",
    "\n",
    "coffee_volume = 4.445\n",
    "\n",
    "coffee_volume = coffee_volume + 4.445 \n",
    "\n",
    "coffee_volume += 4.445\n",
    "\n",
    "coffee_volume = coffee_volume -  4.445 \n",
    "\n",
    "coffee_volume -= 4.445\n",
    "\n",
    "coffee_volume = coffee_volume * 4.445 \n",
    "\n",
    "coffee_volume *= 4.445"
   ]
  },
  {
   "cell_type": "markdown",
   "id": "a1ea157a-5563-4060-9c6e-28ffd612dafa",
   "metadata": {},
   "source": [
    "# Quiz\n",
    "\n",
    "**Solve Brain Buster**"
   ]
  },
  {
   "cell_type": "code",
   "execution_count": null,
   "id": "61229e0c-13ea-4ec2-9fbb-5855b42dfe72",
   "metadata": {},
   "outputs": [],
   "source": [
    "# The current volume of a water reservoir (in cubic metres)\n",
    "reservoir_volume = 4.445e8\n",
    "\n",
    "# The amount of rainfall from a storm (in cubic metres)\n",
    "rainfall = 5e6\n",
    "\n",
    "# decrease the rainfall variable by 10% to account for runoff\n",
    "rainfall = 0.9\n",
    "\n",
    "# add the rainfall variable to the reservoir_volume variable\n",
    "reservoir_volume =\n",
    "\n",
    "# increase reservoir_volume by 5% to account for stormwater that flows\n",
    "# into the reservoir in the days following the storm\n",
    "reservoir_volume = \n",
    "\n",
    "# decrease reservoir_volume by 5% to account for evaporation\n",
    "reservoir_volume = \n",
    "\n",
    "# subtract 2.5e5 cubic metres from reservoir_volume to account for water\n",
    "# that's piped to arid regions.\n",
    "reservoir_volume = \n",
    "\n",
    "# print the new value of the reservoir_volume variable\n",
    "print(reservoir_volume)"
   ]
  },
  {
   "cell_type": "markdown",
   "id": "af54f9f4-9b36-47f8-9c8c-4325d1931e4e",
   "metadata": {},
   "source": [
    "# Part 2\n",
    "\n",
    "![](https://github.com/dell-datascience/python_workshop/blob/7c16752d00f08e5d9d1a6898f84158d52db442a2/images/data_types.png?raw=true)\n",
    "\n",
    "\n",
    "The common data types in python are:\n",
    "\n",
    "- **Integers**\n",
    "\n",
    "number_guests = 13\n",
    "\n",
    "- **Floats**\n",
    "\n",
    "weight = 45.8\n",
    "\n",
    "- **Boolean**\n",
    "\n",
    "5 < 3\n",
    "\n",
    "3 <= 3\n",
    "\n",
    "3 == 3\n",
    "\n",
    "3 != 4\n",
    "\n",
    "\n",
    "\n",
    "- **Strings**\n",
    "\n",
    "car_brand = 'Mercedes'\n",
    "\n",
    "- **Lists**\n",
    "\n",
    "car_brands = ['Land Rover' ,'BMW', 'Mercedes', 'Jeep', 'VW']\n",
    "\n"
   ]
  },
  {
   "cell_type": "code",
   "execution_count": 118,
   "id": "0800eac0-c50e-4bba-9838-4687a9709464",
   "metadata": {},
   "outputs": [
    {
     "name": "stdout",
     "output_type": "stream",
     "text": [
      "<class 'int'>\n",
      "<class 'float'>\n"
     ]
    }
   ],
   "source": [
    "x = int(4.7)   # x is now an integer 4\n",
    "\n",
    "y = float(4)   # y is now a float of 4.0\n",
    "\n",
    "\n",
    "print(type(x))\n",
    "\n",
    "print(type(y))"
   ]
  },
  {
   "cell_type": "markdown",
   "id": "4a2a1737-ba62-4ae1-98c4-ca174359d252",
   "metadata": {},
   "source": [
    "# Quiz"
   ]
  },
  {
   "cell_type": "code",
   "execution_count": null,
   "id": "093c1410-3e01-466e-8fa6-674da4f6d265",
   "metadata": {},
   "outputs": [],
   "source": [
    "sf_population, sf_area = 864816, 231.89\n",
    "rio_population, rio_area = 6453682 , 486.5\n",
    "\n",
    "san_francisco_pop_density = sf_population/sf_area\n",
    "rio_de_janeiro_pop_density = rio_population/rio_area\n",
    "\n",
    "# Write code that prints True if San Francisco is denser than Rio, and False otherwise\n",
    "print()"
   ]
  },
  {
   "cell_type": "code",
   "execution_count": null,
   "id": "c5289d28-8399-4dcf-814f-98c5baf493f9",
   "metadata": {},
   "outputs": [],
   "source": [
    "this_string = 'Simon\\'s skateboard is in the garage.'\n",
    "print(this_string)"
   ]
  },
  {
   "cell_type": "markdown",
   "id": "f4a16512-a584-4813-b27b-64590bf3a69f",
   "metadata": {},
   "source": [
    "# quiz : fix the string"
   ]
  },
  {
   "cell_type": "code",
   "execution_count": null,
   "id": "187f205e-ad5d-4a97-83f8-511602728fd8",
   "metadata": {},
   "outputs": [],
   "source": [
    "ford_quote = \"Whether you think you can, or you think you can't--you're right.\"\n",
    "\n",
    "print(ford_quote)"
   ]
  },
  {
   "cell_type": "code",
   "execution_count": null,
   "id": "eb8ccbae-64e9-4ed3-a13f-3db8544e0777",
   "metadata": {},
   "outputs": [],
   "source": []
  },
  {
   "cell_type": "markdown",
   "id": "603bb995-3ddf-4fbc-bbe2-2680d79d322c",
   "metadata": {},
   "source": [
    "# String methods\n",
    "\n",
    "\n",
    "Methods are functionalities of a data type"
   ]
  },
  {
   "cell_type": "code",
   "execution_count": 145,
   "id": "f6c25ad5-b16d-4cff-ab89-6f6dc9cadf63",
   "metadata": {},
   "outputs": [
    {
     "data": {
      "text/plain": [
       "['__add__',\n",
       " '__class__',\n",
       " '__contains__',\n",
       " '__delattr__',\n",
       " '__dir__',\n",
       " '__doc__',\n",
       " '__eq__',\n",
       " '__format__',\n",
       " '__ge__',\n",
       " '__getattribute__',\n",
       " '__getitem__',\n",
       " '__getnewargs__',\n",
       " '__getstate__',\n",
       " '__gt__',\n",
       " '__hash__',\n",
       " '__init__',\n",
       " '__init_subclass__',\n",
       " '__iter__',\n",
       " '__le__',\n",
       " '__len__',\n",
       " '__lt__',\n",
       " '__mod__',\n",
       " '__mul__',\n",
       " '__ne__',\n",
       " '__new__',\n",
       " '__reduce__',\n",
       " '__reduce_ex__',\n",
       " '__repr__',\n",
       " '__rmod__',\n",
       " '__rmul__',\n",
       " '__setattr__',\n",
       " '__sizeof__',\n",
       " '__str__',\n",
       " '__subclasshook__',\n",
       " 'capitalize',\n",
       " 'casefold',\n",
       " 'center',\n",
       " 'count',\n",
       " 'encode',\n",
       " 'endswith',\n",
       " 'expandtabs',\n",
       " 'find',\n",
       " 'format',\n",
       " 'format_map',\n",
       " 'index',\n",
       " 'isalnum',\n",
       " 'isalpha',\n",
       " 'isascii',\n",
       " 'isdecimal',\n",
       " 'isdigit',\n",
       " 'isidentifier',\n",
       " 'islower',\n",
       " 'isnumeric',\n",
       " 'isprintable',\n",
       " 'isspace',\n",
       " 'istitle',\n",
       " 'isupper',\n",
       " 'join',\n",
       " 'ljust',\n",
       " 'lower',\n",
       " 'lstrip',\n",
       " 'maketrans',\n",
       " 'partition',\n",
       " 'removeprefix',\n",
       " 'removesuffix',\n",
       " 'replace',\n",
       " 'rfind',\n",
       " 'rindex',\n",
       " 'rjust',\n",
       " 'rpartition',\n",
       " 'rsplit',\n",
       " 'rstrip',\n",
       " 'split',\n",
       " 'splitlines',\n",
       " 'startswith',\n",
       " 'strip',\n",
       " 'swapcase',\n",
       " 'title',\n",
       " 'translate',\n",
       " 'upper',\n",
       " 'zfill']"
      ]
     },
     "execution_count": 145,
     "metadata": {},
     "output_type": "execute_result"
    }
   ],
   "source": [
    "name = 'Claire'\n",
    "\n",
    "dir(name)"
   ]
  },
  {
   "cell_type": "code",
   "execution_count": 163,
   "id": "e6d2bbae-c4df-425e-9bce-1d1d0217fa24",
   "metadata": {},
   "outputs": [
    {
     "name": "stdout",
     "output_type": "stream",
     "text": [
      "Return a copy of the string converted to uppercase.\n"
     ]
    }
   ],
   "source": [
    "print(name.upper.__doc__)"
   ]
  },
  {
   "cell_type": "code",
   "execution_count": 167,
   "id": "c1892bd8-ecef-48b6-87db-f78eb984e0d8",
   "metadata": {},
   "outputs": [
    {
     "name": "stdout",
     "output_type": "stream",
     "text": [
      "Return a capitalized version of the string.\n",
      "\n",
      "More specifically, make the first character have upper case and the rest lower\n",
      "case.\n"
     ]
    }
   ],
   "source": [
    "print(name.capitalize.__doc__)"
   ]
  },
  {
   "cell_type": "code",
   "execution_count": 177,
   "id": "0f00fbe1-634d-40af-8afc-52fcb16c9ad8",
   "metadata": {},
   "outputs": [
    {
     "name": "stdout",
     "output_type": "stream",
     "text": [
      "['The', 'weather', 'really', 'feels', 'chilly', 'today']\n"
     ]
    }
   ],
   "source": [
    "sentence = 'The weather really feels chilly today'\n",
    "\n",
    "words = sentence.split(' ')\n",
    "print(words)\n"
   ]
  },
  {
   "cell_type": "markdown",
   "id": "6fc83606-838d-4c6d-bf59-d9e129fcebd1",
   "metadata": {},
   "source": [
    "# List "
   ]
  },
  {
   "cell_type": "code",
   "execution_count": 180,
   "id": "ec3b4f2c-92d5-41e6-bc7e-031ac56e263c",
   "metadata": {},
   "outputs": [
    {
     "name": "stdout",
     "output_type": "stream",
     "text": [
      "January\n"
     ]
    }
   ],
   "source": [
    "\n",
    "months = ['January', 'February', 'March', 'April', 'May', 'June', 'July', 'August', 'September', 'October', 'November', 'December'] \n",
    "\n",
    "print(months[0])"
   ]
  },
  {
   "cell_type": "code",
   "execution_count": 183,
   "id": "4619411a-c23b-4ed7-b792-71af388da417",
   "metadata": {},
   "outputs": [
    {
     "name": "stdout",
     "output_type": "stream",
     "text": [
      "['July', 'August', 'September']\n"
     ]
    }
   ],
   "source": [
    "q3 = months[6:9]\n",
    "print(q3) "
   ]
  },
  {
   "cell_type": "code",
   "execution_count": 185,
   "id": "3e96b6b3-7dc0-4c4e-b613-d8dc57edbdd4",
   "metadata": {},
   "outputs": [
    {
     "name": "stdout",
     "output_type": "stream",
     "text": [
      "['January', 'February', 'March', 'April', 'May', 'June']\n"
     ]
    }
   ],
   "source": [
    "first_half = months[:6]\n",
    "print(first_half)"
   ]
  },
  {
   "cell_type": "markdown",
   "id": "5027a168-7644-4532-8f60-8ad7377086a3",
   "metadata": {},
   "source": [
    "# Are you **in** or **out**"
   ]
  },
  {
   "cell_type": "code",
   "execution_count": 192,
   "id": "11628f32-aeb2-4979-9549-1e79f91ec1d2",
   "metadata": {},
   "outputs": [
    {
     "data": {
      "text/plain": [
       "False"
      ]
     },
     "execution_count": 192,
     "metadata": {},
     "output_type": "execute_result"
    }
   ],
   "source": [
    "'these' in 'this is a string'"
   ]
  },
  {
   "cell_type": "code",
   "execution_count": 190,
   "id": "02ee8472-4cb8-4482-bfcf-6145e2990819",
   "metadata": {},
   "outputs": [
    {
     "data": {
      "text/plain": [
       "True"
      ]
     },
     "execution_count": 190,
     "metadata": {},
     "output_type": "execute_result"
    }
   ],
   "source": [
    "'in' in 'this is a string'"
   ]
  },
  {
   "cell_type": "code",
   "execution_count": 194,
   "id": "bcf4e24e-1c39-4ec6-9d28-4ba0b8fa4284",
   "metadata": {},
   "outputs": [
    {
     "data": {
      "text/plain": [
       "True"
      ]
     },
     "execution_count": 194,
     "metadata": {},
     "output_type": "execute_result"
    }
   ],
   "source": [
    "5 not in [1, 2, 3, 4, 6]"
   ]
  },
  {
   "cell_type": "markdown",
   "id": "53d2f715-77d4-423b-8864-b5177dc5c6cd",
   "metadata": {},
   "source": [
    "# Mutability\n",
    "\n",
    "Mutability is about whether or not we can change an object once it has been created."
   ]
  },
  {
   "cell_type": "code",
   "execution_count": 197,
   "id": "9b13549a-6cc9-4ebc-89e1-b6eaa36de58d",
   "metadata": {},
   "outputs": [
    {
     "name": "stdout",
     "output_type": "stream",
     "text": [
      "['one', 2, 3, 4, 5]\n"
     ]
    }
   ],
   "source": [
    "my_lst = [1, 2, 3, 4, 5]\n",
    "\n",
    "my_lst[0] = 'one'\n",
    "\n",
    "print(my_lst)"
   ]
  },
  {
   "cell_type": "code",
   "execution_count": 199,
   "id": "e9440d0e-9e69-4ee6-965f-55ec8f942a74",
   "metadata": {},
   "outputs": [
    {
     "ename": "TypeError",
     "evalue": "'str' object does not support item assignment",
     "output_type": "error",
     "traceback": [
      "\u001b[0;31m---------------------------------------------------------------------------\u001b[0m",
      "\u001b[0;31mTypeError\u001b[0m                                 Traceback (most recent call last)",
      "Cell \u001b[0;32mIn[199], line 2\u001b[0m\n\u001b[1;32m      1\u001b[0m greeting \u001b[38;5;241m=\u001b[39m \u001b[38;5;124m\"\u001b[39m\u001b[38;5;124mHello there\u001b[39m\u001b[38;5;124m\"\u001b[39m\n\u001b[0;32m----> 2\u001b[0m greeting[\u001b[38;5;241m0\u001b[39m] \u001b[38;5;241m=\u001b[39m \u001b[38;5;124m'\u001b[39m\u001b[38;5;124mM\u001b[39m\u001b[38;5;124m'\u001b[39m\n",
      "\u001b[0;31mTypeError\u001b[0m: 'str' object does not support item assignment"
     ]
    }
   ],
   "source": [
    "greeting = \"Hello there\"\n",
    "greeting[0] = 'M'"
   ]
  },
  {
   "cell_type": "code",
   "execution_count": 201,
   "id": "a9fb473a-ea9c-43c8-896e-e62498363d03",
   "metadata": {},
   "outputs": [
    {
     "name": "stdout",
     "output_type": "stream",
     "text": [
      "['November 13, 2012', 'March 20, 2015', 'March 9, 2016']\n"
     ]
    }
   ],
   "source": [
    "eclipse_dates = ['June 21, 2001', 'December 4, 2002', 'November 23, 2003',\n",
    "                 'March 29, 2006', 'August 1, 2008', 'July 22, 2009',\n",
    "                 'July 11, 2010', 'November 13, 2012', 'March 20, 2015',\n",
    "                 'March 9, 2016']\n",
    "                 \n",
    "                 \n",
    "# TODO: Modify this line so it prints the last three elements of the list\n",
    "print(eclipse_dates[-3:])"
   ]
  },
  {
   "cell_type": "markdown",
   "id": "44eec032-3e3c-49f6-83fb-32ff1a47e7fb",
   "metadata": {},
   "source": [
    "# List methods\n",
    "\n",
    "`len()`\n",
    "\n",
    "`max()`\n",
    "\n",
    "`min()`\n",
    "\n",
    "`sorted()`\n",
    "\n",
    "`append`"
   ]
  },
  {
   "cell_type": "code",
   "execution_count": 213,
   "id": "ecce4341-1d08-440c-9b89-f2fd35096b32",
   "metadata": {},
   "outputs": [
    {
     "name": "stdout",
     "output_type": "stream",
     "text": [
      "[3, 4, 2]\n"
     ]
    }
   ],
   "source": [
    "print([len(a), len(b), len(c)])"
   ]
  },
  {
   "cell_type": "code",
   "execution_count": 211,
   "id": "d296ba33-1b4b-47a2-94c9-f8ac191b8560",
   "metadata": {},
   "outputs": [
    {
     "name": "stdout",
     "output_type": "stream",
     "text": [
      "4\n"
     ]
    }
   ],
   "source": [
    "a = [1, 5, 8]\n",
    "b = [2, 6, 9, 10]\n",
    "c = [100, 200]\n",
    "\n",
    "print(max([len(a), len(b), len(c)]))"
   ]
  },
  {
   "cell_type": "code",
   "execution_count": 215,
   "id": "79cba8bb-1c15-431a-af8f-8d5f9a74147a",
   "metadata": {},
   "outputs": [
    {
     "name": "stdout",
     "output_type": "stream",
     "text": [
      "2\n"
     ]
    }
   ],
   "source": [
    "print(min([len(a), len(b), len(c)]))"
   ]
  },
  {
   "cell_type": "code",
   "execution_count": 204,
   "id": "2f42a044-d5ab-43d6-ac17-9c3493fc784a",
   "metadata": {},
   "outputs": [
    {
     "name": "stdout",
     "output_type": "stream",
     "text": [
      "fore\n",
      "aft\n",
      "starboard\n",
      "port\n"
     ]
    }
   ],
   "source": [
    "new_str = \"\\n\".join([\"fore\", \"aft\", \"starboard\", \"port\"])\n",
    "print(new_str)"
   ]
  },
  {
   "cell_type": "code",
   "execution_count": 209,
   "id": "6017ed15-9e39-4ebe-be5e-e48dcf17aaa6",
   "metadata": {},
   "outputs": [
    {
     "name": "stdout",
     "output_type": "stream",
     "text": [
      "['a', 'b', 'c', 'd', 'z']\n"
     ]
    }
   ],
   "source": [
    "letters = ['a', 'b', 'c', 'd']\n",
    "letters.append('z')\n",
    "print(letters)"
   ]
  },
  {
   "cell_type": "code",
   "execution_count": 217,
   "id": "8302df2a-add5-4feb-8a8c-3586f4c89629",
   "metadata": {},
   "outputs": [
    {
     "data": {
      "text/plain": [
       "['Albert', 'Ben', 'Carol', 'Donna']"
      ]
     },
     "execution_count": 217,
     "metadata": {},
     "output_type": "execute_result"
    }
   ],
   "source": [
    "names = [\"Carol\", \"Albert\", \"Ben\", \"Donna\"]\n",
    "sorted(names)"
   ]
  },
  {
   "cell_type": "code",
   "execution_count": 219,
   "id": "d42dd540-ae52-4374-9091-dc783592ad71",
   "metadata": {},
   "outputs": [
    {
     "name": "stdout",
     "output_type": "stream",
     "text": [
      "Albert & Ben & Carol & Donna\n"
     ]
    }
   ],
   "source": [
    "print(\" & \".join(sorted(names)))"
   ]
  },
  {
   "cell_type": "code",
   "execution_count": 221,
   "id": "8ee5b4ce-15f2-463d-aa34-d778d922c9ac",
   "metadata": {},
   "outputs": [
    {
     "name": "stdout",
     "output_type": "stream",
     "text": [
      "['Albert', 'Ben', 'Carol', 'Donna', 'Eugenia']\n"
     ]
    }
   ],
   "source": [
    "names = [\"Carol\", \"Albert\", \"Ben\", \"Donna\"]\n",
    "names.append(\"Eugenia\")\n",
    "print(sorted(names))"
   ]
  },
  {
   "cell_type": "markdown",
   "id": "4f5bfe48-2e40-4c33-83cf-67e54d10d50f",
   "metadata": {},
   "source": [
    "# Tuple\n",
    "\n",
    "It's a data type for immutable ordered sequences of elements. They are comma separated values\n",
    "\n",
    "location = (13.4125, 103.866667)\n",
    "\n",
    "dimensions = 52, 40, 100\n"
   ]
  },
  {
   "cell_type": "code",
   "execution_count": null,
   "id": "1487ec0c-6d53-4e5b-bfcb-03414abc55f5",
   "metadata": {},
   "outputs": [],
   "source": []
  },
  {
   "cell_type": "code",
   "execution_count": null,
   "id": "b30c31d0-57ee-40b0-abbc-16e0680f2f83",
   "metadata": {},
   "outputs": [],
   "source": [
    "location = (13.4125, 103.866667)\n",
    "\n",
    "print(\"Latitude:\", location[0])\n",
    "print(\"Longitude:\", location[1])"
   ]
  },
  {
   "cell_type": "code",
   "execution_count": null,
   "id": "4e747b5a-c384-48ba-ad4a-0acf193ac442",
   "metadata": {},
   "outputs": [],
   "source": []
  },
  {
   "cell_type": "markdown",
   "id": "f0b9581e-281c-43f6-9738-452292787ff7",
   "metadata": {},
   "source": [
    "# Set\n",
    "\n",
    "A set is a data type for mutable unordered collections of unique elements. One application of a set is to quickly remove duplicates from a list.\n",
    "\n"
   ]
  },
  {
   "cell_type": "code",
   "execution_count": 224,
   "id": "fc28ec2a-eb29-4689-b222-25bf14f32aea",
   "metadata": {},
   "outputs": [
    {
     "name": "stdout",
     "output_type": "stream",
     "text": [
      "{1, 2, 3, 6}\n"
     ]
    }
   ],
   "source": [
    "numbers = [1, 2, 6, 3, 1, 1, 6]\n",
    "unique_nums = set(numbers)\n",
    "print(unique_nums)"
   ]
  },
  {
   "cell_type": "code",
   "execution_count": 226,
   "id": "835bb1b0-9694-471a-9216-4f38526c0367",
   "metadata": {},
   "outputs": [
    {
     "name": "stdout",
     "output_type": "stream",
     "text": [
      "False\n",
      "{'banana', 'grapefruit', 'orange', 'watermelon', 'apple'}\n",
      "banana\n",
      "{'grapefruit', 'orange', 'watermelon', 'apple'}\n"
     ]
    }
   ],
   "source": [
    "fruit = {\"apple\", \"banana\", \"orange\", \"grapefruit\"}  # define a set\n",
    "\n",
    "print(\"watermelon\" in fruit)  # check for element\n",
    "\n",
    "fruit.add(\"watermelon\")  # add an element\n",
    "print(fruit)\n",
    "\n",
    "print(fruit.pop())  # remove a random element\n",
    "print(fruit)"
   ]
  },
  {
   "cell_type": "code",
   "execution_count": null,
   "id": "9eb74827-cfa4-4f82-b510-14e8760b8ac0",
   "metadata": {},
   "outputs": [],
   "source": []
  },
  {
   "cell_type": "markdown",
   "id": "5d5b7341-1632-418e-8e0e-ca0bb481aecf",
   "metadata": {},
   "source": [
    "# Dictionary\n",
    "\n",
    "Dictionaries\n",
    "A dictionary is a mutable data type that stores mappings of unique keys to values."
   ]
  },
  {
   "cell_type": "code",
   "execution_count": 229,
   "id": "9821b604-e38b-414e-81d2-8fdb16d5c4e3",
   "metadata": {},
   "outputs": [],
   "source": [
    "elements = {\"hydrogen\": 1, \"helium\": 2, \"carbon\": 6}"
   ]
  },
  {
   "cell_type": "code",
   "execution_count": 231,
   "id": "91e12a48-12f5-4009-bd8b-6fb09d1aa7e4",
   "metadata": {},
   "outputs": [
    {
     "name": "stdout",
     "output_type": "stream",
     "text": [
      "2\n"
     ]
    }
   ],
   "source": [
    "print(elements[\"helium\"])  # print the value mapped to \"helium\"\n",
    "\n"
   ]
  },
  {
   "cell_type": "code",
   "execution_count": null,
   "id": "06ea0bb7-15cb-4fd8-ae30-840399655061",
   "metadata": {},
   "outputs": [],
   "source": [
    "elements[\"lithium\"] = 3"
   ]
  },
  {
   "cell_type": "code",
   "execution_count": 235,
   "id": "34efd700-51a2-47b3-9de7-59a960b5c5a9",
   "metadata": {},
   "outputs": [
    {
     "name": "stdout",
     "output_type": "stream",
     "text": [
      "True\n"
     ]
    }
   ],
   "source": [
    "print(\"carbon\" in elements)"
   ]
  },
  {
   "cell_type": "code",
   "execution_count": 239,
   "id": "97fd6038-6a16-4b2b-88e1-ee97f1e7e3ba",
   "metadata": {},
   "outputs": [
    {
     "name": "stdout",
     "output_type": "stream",
     "text": [
      "None\n"
     ]
    }
   ],
   "source": [
    "print(elements.get(\"dilithium\"))"
   ]
  },
  {
   "cell_type": "code",
   "execution_count": null,
   "id": "c35d1c59-87f6-47c9-8767-642fedb4b19c",
   "metadata": {},
   "outputs": [],
   "source": [
    "# Define a Dictionary, population,\n",
    "# that provides information\n",
    "# on the world's largest cities.\n",
    "# The key is the name of a city\n",
    "# (a string), and the associated\n",
    "# value is its population in\n",
    "# millions of people.\n",
    "\n",
    "#   Key     |   Value\n",
    "# Shanghai  |   17.8\n",
    "# Istanbul  |   13.3\n",
    "# Karachi   |   13.0\n",
    "# Mumbai    |   12.5\n",
    "\n",
    "\n",
    "\n"
   ]
  },
  {
   "cell_type": "code",
   "execution_count": 246,
   "id": "b7c2752d-b3bd-4885-84d2-a7dc665e024f",
   "metadata": {},
   "outputs": [],
   "source": [
    "# Why dictionaries\n",
    "\n",
    "VINIX =  {'C': 0.74, 'MA': 0.78, 'BA': 0.79, 'PG': 0.85, 'CSCO': 0.88, 'VZ': 0.9,\n",
    "          'PFE': 0.92, 'HD': 0.97, 'INTC': 1.0, 'T': 1.01, 'V': 1.02, 'UNH': 1.02, \n",
    "          'WFC': 1.05, 'CVX': 1.05, 'BAC': 1.15, 'JNJ': 1.41, 'GOOGL': 1.46, 'GOOG': 1.47,\n",
    "          'BRK.B': 1.5, 'XOM': 1.52, 'JPM': 1.53, 'FB': 2.02, 'AMZN': 2.96, 'MSFT': 3.28, 'AAPL': 3.94}"
   ]
  },
  {
   "cell_type": "markdown",
   "id": "1318d413-720f-421e-84d8-1fd439a9f793",
   "metadata": {},
   "source": [
    "# Compound dictionaries\n"
   ]
  },
  {
   "cell_type": "code",
   "execution_count": 251,
   "id": "8b02b845-d566-4571-b4cc-e7d300cd995a",
   "metadata": {},
   "outputs": [],
   "source": [
    "elements = {\"hydrogen\": {\"number\": 1,\n",
    "                         \"weight\": 1.00794,\n",
    "                         \"symbol\": \"H\"},\n",
    "              \"helium\": {\"number\": 2,\n",
    "                         \"weight\": 4.002602,\n",
    "                         \"symbol\": \"He\"}\n",
    "           }"
   ]
  },
  {
   "cell_type": "markdown",
   "id": "14db3d3c-fd9c-49bd-9aa5-06a3228d3ded",
   "metadata": {},
   "source": [
    "Access elements in the dictionary by brackets"
   ]
  },
  {
   "cell_type": "code",
   "execution_count": 253,
   "id": "355af6d8-b24f-4af9-a99d-78b5fe756971",
   "metadata": {},
   "outputs": [],
   "source": [
    "helium = elements[\"helium\"]  # get the helium dictionary\n",
    "hydrogen_weight = elements[\"hydrogen\"][\"weight\"]  # get hydrogen's weight"
   ]
  },
  {
   "cell_type": "code",
   "execution_count": null,
   "id": "5550e321-cf38-468b-8b98-3c8194ca0545",
   "metadata": {},
   "outputs": [],
   "source": [
    "oxygen = {\"number\":8,\"weight\":15.999,\"symbol\":\"O\"}  \n",
    "# create a new oxygen dictionary \n",
    "\n",
    "elements[\"oxygen\"] = oxygen  \n",
    "# assign 'oxygen' as a key to the elements dictionary\n",
    "\n",
    "print('elements = ', elements)"
   ]
  },
  {
   "cell_type": "code",
   "execution_count": null,
   "id": "ffb4c4aa-efee-4112-8793-e6c18b787e9d",
   "metadata": {},
   "outputs": [],
   "source": []
  },
  {
   "cell_type": "markdown",
   "id": "cfccb795-dfa0-48de-a29a-ddaba54ffd1c",
   "metadata": {},
   "source": [
    "#  Control flows\n",
    "\n",
    "\n",
    "Control flow is the sequence in which your code is run\n",
    "\n",
    "- Conditional Statements\n",
    "- Boolean Expressions\n",
    "- For and While Loops\n",
    "- Break and Continue\n",
    "- Zip and Enumerate\n",
    "- List Comprehensions\n"
   ]
  },
  {
   "cell_type": "markdown",
   "id": "1a5469df-755d-46b3-8ea3-f81f61d2f04b",
   "metadata": {},
   "source": [
    "# If Statement\n",
    "An if statement is a conditional statement that runs or skips code based on whether a condition is true or false. Here's a simple example.\n",
    "\n",
    "```python\n",
    "if phone_balance < 5:\n",
    "    phone_balance += 10\n",
    "    bank_balance -= 10\n",
    "\n",
    "```"
   ]
  },
  {
   "cell_type": "markdown",
   "id": "6bc382e5-eb0e-46e0-b6d1-6082b853e59f",
   "metadata": {},
   "source": [
    "# If, Elif, Else\n",
    "In addition to the if clause, there are two other optional clauses often used with an if statement. For example:\n",
    "\n",
    "```python\n",
    "season = ?\n",
    "\n",
    "if season == 'spring':\n",
    "    print('plant the garden!')\n",
    "elif season == 'summer':\n",
    "    print('water the garden!')\n",
    "elif season == 'fall':\n",
    "    print('harvest the garden!')\n",
    "elif season == 'winter':\n",
    "    print('stay indoors!')\n",
    "else:\n",
    "    print('unrecognized season')\n",
    "```"
   ]
  },
  {
   "cell_type": "code",
   "execution_count": null,
   "id": "51da111e-c320-4269-b99e-a91c73239e8f",
   "metadata": {},
   "outputs": [],
   "source": [
    "#First Example - try changing the value of phone_balance\n",
    "phone_balance = 10\n",
    "bank_balance = 50\n",
    "\n",
    "if phone_balance < 10:\n",
    "    phone_balance += 10\n",
    "    bank_balance -= 10\n",
    "\n",
    "print(phone_balance)\n",
    "print(bank_balance)\n",
    "\n"
   ]
  },
  {
   "cell_type": "code",
   "execution_count": 264,
   "id": "92d1845e-8768-4198-a593-fd4cde64f087",
   "metadata": {},
   "outputs": [
    {
     "name": "stdout",
     "output_type": "stream",
     "text": [
      "Number 145 is odd.\n"
     ]
    }
   ],
   "source": [
    "#Second Example - try changing the value of number\n",
    "\n",
    "number = 145\n",
    "if number % 2 == 0:\n",
    "    print(\"Number \" + str(number) + \" is even.\")\n",
    "else:\n",
    "    print(\"Number \" + str(number) + \" is odd.\")\n",
    "\n"
   ]
  },
  {
   "cell_type": "code",
   "execution_count": 266,
   "id": "de0861bf-88fb-4bf5-a4a2-fa8d620130ab",
   "metadata": {},
   "outputs": [],
   "source": [
    "#Third Example - try to change the value of age\n",
    "age = 35\n",
    "\n",
    "# Here are the age limits for bus fares\n",
    "free_up_to_age = 4\n",
    "child_up_to_age = 18\n",
    "senior_from_age = 65\n",
    "\n",
    "# These lines determine the bus fare prices\n",
    "concession_ticket = 1.25\n",
    "adult_ticket = 2.50\n",
    "\n",
    "# Here is the logic for bus fare prices\n",
    "if age <= free_up_to_age:\n",
    "    ticket_price = 0\n",
    "elif age <= child_up_to_age:\n",
    "    ticket_price = concession_ticket\n",
    "elif age >= senior_from_age:\n",
    "    ticket_price = concession_ticket\n",
    "else:\n",
    "    ticket_price = adult_ticket\n"
   ]
  },
  {
   "cell_type": "markdown",
   "id": "2ae5ed10-ccfa-492e-a1eb-656d7bf07a3e",
   "metadata": {},
   "source": [
    "# Boolean\n",
    "\n",
    "```python\n",
    "if 18.5 <= weight / height**2 < 25:\n",
    "    print(\"BMI is considered 'normal'\")\n",
    "\n",
    "if is_raining and is_sunny:\n",
    "    print(\"Is there a rainbow?\")\n",
    "\n",
    "if (not unsubscribed) and (location == \"USA\" or location == \"CAN\"):\n",
    "    print(\"send email\")\n",
    "```"
   ]
  },
  {
   "cell_type": "markdown",
   "id": "fb3f243b-1848-4bb5-bf65-52e1fbddc792",
   "metadata": {},
   "source": [
    "# for loops"
   ]
  },
  {
   "cell_type": "code",
   "execution_count": 271,
   "id": "2dc871c8-13ed-445d-97fb-ad5308f67eb9",
   "metadata": {},
   "outputs": [
    {
     "name": "stdout",
     "output_type": "stream",
     "text": [
      "new york city\n",
      "mountain view\n",
      "chicago\n",
      "los angeles\n",
      "Done!\n"
     ]
    }
   ],
   "source": [
    "cities = ['new york city', 'mountain view', 'chicago', 'los angeles']\n",
    "for city in cities:\n",
    "    print(city)\n",
    "print(\"Done!\")"
   ]
  },
  {
   "cell_type": "code",
   "execution_count": 269,
   "id": "33d79481-0a94-43eb-83d7-0dce74e6ab5e",
   "metadata": {},
   "outputs": [
    {
     "name": "stdout",
     "output_type": "stream",
     "text": [
      "Hello!\n",
      "Hello!\n",
      "Hello!\n"
     ]
    }
   ],
   "source": [
    "for i in range(3):\n",
    "    print(\"Hello!\")"
   ]
  },
  {
   "cell_type": "code",
   "execution_count": 279,
   "id": "a6890e5b-634b-4c82-8bc8-e01431654a14",
   "metadata": {},
   "outputs": [
    {
     "name": "stdout",
     "output_type": "stream",
     "text": [
      "['New York City', 'Mountain View', 'Chicago', 'Los Angeles']\n"
     ]
    }
   ],
   "source": [
    "## Creating a new list\n",
    "cities = ['new york city', 'mountain view', 'chicago', 'los angeles']\n",
    "capitalized_cities = []\n",
    "\n",
    "for city in cities:\n",
    "    capitalized_cities.append(city.title())\n",
    "    \n",
    "print(capitalized_cities)"
   ]
  },
  {
   "cell_type": "code",
   "execution_count": null,
   "id": "dbcff9fe-422e-4983-a535-8b98f4613a74",
   "metadata": {},
   "outputs": [],
   "source": [
    "cities = ['new york city', 'mountain view', 'chicago', 'los angeles']\n",
    "\n",
    "for index in range(len(cities)):\n",
    "    cities[index] = cities[index].title()"
   ]
  }
 ],
 "metadata": {
  "kernelspec": {
   "display_name": "anaconda-panel-2023.05-py310",
   "language": "python",
   "name": "conda-env-anaconda-panel-2023.05-py310-py"
  },
  "language_info": {
   "codemirror_mode": {
    "name": "ipython",
    "version": 3
   },
   "file_extension": ".py",
   "mimetype": "text/x-python",
   "name": "python",
   "nbconvert_exporter": "python",
   "pygments_lexer": "ipython3",
   "version": "3.11.5"
  }
 },
 "nbformat": 4,
 "nbformat_minor": 5
}
